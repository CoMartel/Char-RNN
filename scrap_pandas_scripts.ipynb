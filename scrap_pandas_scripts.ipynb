{
 "cells": [
  {
   "cell_type": "code",
   "execution_count": 1,
   "metadata": {},
   "outputs": [],
   "source": [
    "import glob\n",
    "import os"
   ]
  },
  {
   "cell_type": "code",
   "execution_count": 2,
   "metadata": {},
   "outputs": [],
   "source": [
    "rootdir = \"./pandas/\""
   ]
  },
  {
   "cell_type": "code",
   "execution_count": 4,
   "metadata": {
    "scrolled": false
   },
   "outputs": [],
   "source": [
    "for root, subdirs, files in os.walk(rootdir):\n",
    "#     print(root)\n",
    "#     print(subdirs)\n",
    "#     print(\"files : {}\".format(files))\n",
    "    py_files = [f for f in files if (f[-3:]==\".py\" and f != \"__init__.py\")]\n",
    "#     print(py_files)\n",
    "    with open(\"./data/full_pandas.py\",\"a\",encoding=\"utf-8\") as save_file:\n",
    "        to_save = \"\"\n",
    "        for f in py_files:\n",
    "#             print(f)\n",
    "            with open(os.path.join(root, f),\"r\",encoding=\"utf-8\") as py_file:\n",
    "                f_content = py_file.read()\n",
    "#                 print(f_content)\n",
    "                save_file.write(f_content)\n",
    "                save_file.write('\\n')\n",
    "                "
   ]
  },
  {
   "cell_type": "code",
   "execution_count": 16,
   "metadata": {},
   "outputs": [
    {
     "data": {
      "text/plain": [
       "'./pandas/scripts\\\\tests'"
      ]
     },
     "execution_count": 16,
     "metadata": {},
     "output_type": "execute_result"
    }
   ],
   "source": [
    "root"
   ]
  },
  {
   "cell_type": "code",
   "execution_count": null,
   "metadata": {},
   "outputs": [],
   "source": []
  }
 ],
 "metadata": {
  "kernelspec": {
   "display_name": "Python 3",
   "language": "python",
   "name": "python3"
  },
  "language_info": {
   "codemirror_mode": {
    "name": "ipython",
    "version": 3
   },
   "file_extension": ".py",
   "mimetype": "text/x-python",
   "name": "python",
   "nbconvert_exporter": "python",
   "pygments_lexer": "ipython3",
   "version": "3.6.5"
  }
 },
 "nbformat": 4,
 "nbformat_minor": 2
}
